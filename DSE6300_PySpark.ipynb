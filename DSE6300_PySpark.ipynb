{
  "nbformat": 4,
  "nbformat_minor": 0,
  "metadata": {
    "colab": {
      "name": " DSE6300 PySpark.ipynb",
      "provenance": [],
      "authorship_tag": "ABX9TyP7jC7KHXt03hMFS6oyWLam",
      "include_colab_link": true
    },
    "kernelspec": {
      "name": "python3",
      "display_name": "Python 3"
    },
    "language_info": {
      "name": "python"
    }
  },
  "cells": [
    {
      "cell_type": "markdown",
      "metadata": {
        "id": "view-in-github",
        "colab_type": "text"
      },
      "source": [
        "<a href=\"https://colab.research.google.com/github/Priyaa84/DSE6300_Project/blob/main/DSE6300_PySpark.ipynb\" target=\"_parent\"><img src=\"https://colab.research.google.com/assets/colab-badge.svg\" alt=\"Open In Colab\"/></a>"
      ]
    },
    {
      "cell_type": "markdown",
      "source": [
        "# Import Dataset"
      ],
      "metadata": {
        "id": "K5I_hdfE7tO3"
      }
    },
    {
      "cell_type": "code",
      "source": [
        "import time\n",
        "import datetime\n",
        "import pandas as pd\n",
        "\n",
        "\n",
        "ticker = 'AAPL'\n",
        "period1 = int(time.mktime(datetime.datetime(2020,12,1,23,59).timetuple()))\n",
        "period2 = int(time.mktime(datetime.datetime(2020,12,1,23,59).timetuple()))\n",
        "interval = '1d'\n",
        "\n",
        "query_string = f'https://query1.finance.yahoo.com/v7/finance/download/{ticker}?period={period1}&period2={period2}&interval={interval}&events=history&includeAdjustedClose=true'\n",
        "\n",
        "df1= pd.read_csv(query_string)\n",
        "\n",
        "from google.colab import files\n",
        "\n",
        "df1.to_csv('output1.csv', encoding = 'utf-8-sig') \n",
        "files.download('output1.csv')\n",
        "\n",
        "\n",
        "\n"
      ],
      "metadata": {
        "colab": {
          "base_uri": "https://localhost:8080/",
          "height": 17
        },
        "id": "lVLCD_RLuZUY",
        "outputId": "c9fc04d6-af7c-4ff1-a1b3-e9e9c5e2e572"
      },
      "execution_count": 14,
      "outputs": [
        {
          "output_type": "display_data",
          "data": {
            "text/plain": [
              "<IPython.core.display.Javascript object>"
            ],
            "application/javascript": [
              "\n",
              "    async function download(id, filename, size) {\n",
              "      if (!google.colab.kernel.accessAllowed) {\n",
              "        return;\n",
              "      }\n",
              "      const div = document.createElement('div');\n",
              "      const label = document.createElement('label');\n",
              "      label.textContent = `Downloading \"${filename}\": `;\n",
              "      div.appendChild(label);\n",
              "      const progress = document.createElement('progress');\n",
              "      progress.max = size;\n",
              "      div.appendChild(progress);\n",
              "      document.body.appendChild(div);\n",
              "\n",
              "      const buffers = [];\n",
              "      let downloaded = 0;\n",
              "\n",
              "      const channel = await google.colab.kernel.comms.open(id);\n",
              "      // Send a message to notify the kernel that we're ready.\n",
              "      channel.send({})\n",
              "\n",
              "      for await (const message of channel.messages) {\n",
              "        // Send a message to notify the kernel that we're ready.\n",
              "        channel.send({})\n",
              "        if (message.buffers) {\n",
              "          for (const buffer of message.buffers) {\n",
              "            buffers.push(buffer);\n",
              "            downloaded += buffer.byteLength;\n",
              "            progress.value = downloaded;\n",
              "          }\n",
              "        }\n",
              "      }\n",
              "      const blob = new Blob(buffers, {type: 'application/binary'});\n",
              "      const a = document.createElement('a');\n",
              "      a.href = window.URL.createObjectURL(blob);\n",
              "      a.download = filename;\n",
              "      div.appendChild(a);\n",
              "      a.click();\n",
              "      div.remove();\n",
              "    }\n",
              "  "
            ]
          },
          "metadata": {}
        },
        {
          "output_type": "display_data",
          "data": {
            "text/plain": [
              "<IPython.core.display.Javascript object>"
            ],
            "application/javascript": [
              "download(\"download_5b3a7624-37d4-4882-8133-c54ab14d229c\", \"output1.csv\", 22005)"
            ]
          },
          "metadata": {}
        }
      ]
    },
    {
      "cell_type": "code",
      "source": [
        "import time\n",
        "import datetime\n",
        "import pandas as pd\n",
        "\n",
        "\n",
        "ticker = 'TSLA'\n",
        "period1 = int(time.mktime(datetime.datetime(2020,12,1,23,59).timetuple()))\n",
        "period2 = int(time.mktime(datetime.datetime(2020,12,1,23,59).timetuple()))\n",
        "interval = '1d'\n",
        "\n",
        "query_string = f'https://query1.finance.yahoo.com/v7/finance/download/{ticker}?period={period1}&period2={period2}&interval={interval}&events=history&includeAdjustedClose=true'\n",
        "\n",
        "df2= pd.read_csv(query_string)\n",
        "\n",
        "from google.colab import files\n",
        "\n",
        "df2.to_csv('output2.csv', encoding = 'utf-8-sig') \n",
        "files.download('output2.csv')"
      ],
      "metadata": {
        "colab": {
          "base_uri": "https://localhost:8080/",
          "height": 17
        },
        "id": "Htte74o60DlV",
        "outputId": "edbb6a09-b089-4639-bb32-11f73bc5aeff"
      },
      "execution_count": 15,
      "outputs": [
        {
          "output_type": "display_data",
          "data": {
            "text/plain": [
              "<IPython.core.display.Javascript object>"
            ],
            "application/javascript": [
              "\n",
              "    async function download(id, filename, size) {\n",
              "      if (!google.colab.kernel.accessAllowed) {\n",
              "        return;\n",
              "      }\n",
              "      const div = document.createElement('div');\n",
              "      const label = document.createElement('label');\n",
              "      label.textContent = `Downloading \"${filename}\": `;\n",
              "      div.appendChild(label);\n",
              "      const progress = document.createElement('progress');\n",
              "      progress.max = size;\n",
              "      div.appendChild(progress);\n",
              "      document.body.appendChild(div);\n",
              "\n",
              "      const buffers = [];\n",
              "      let downloaded = 0;\n",
              "\n",
              "      const channel = await google.colab.kernel.comms.open(id);\n",
              "      // Send a message to notify the kernel that we're ready.\n",
              "      channel.send({})\n",
              "\n",
              "      for await (const message of channel.messages) {\n",
              "        // Send a message to notify the kernel that we're ready.\n",
              "        channel.send({})\n",
              "        if (message.buffers) {\n",
              "          for (const buffer of message.buffers) {\n",
              "            buffers.push(buffer);\n",
              "            downloaded += buffer.byteLength;\n",
              "            progress.value = downloaded;\n",
              "          }\n",
              "        }\n",
              "      }\n",
              "      const blob = new Blob(buffers, {type: 'application/binary'});\n",
              "      const a = document.createElement('a');\n",
              "      a.href = window.URL.createObjectURL(blob);\n",
              "      a.download = filename;\n",
              "      div.appendChild(a);\n",
              "      a.click();\n",
              "      div.remove();\n",
              "    }\n",
              "  "
            ]
          },
          "metadata": {}
        },
        {
          "output_type": "display_data",
          "data": {
            "text/plain": [
              "<IPython.core.display.Javascript object>"
            ],
            "application/javascript": [
              "download(\"download_536c3392-1cca-4d9a-878d-aa7393f0efcf\", \"output2.csv\", 22311)"
            ]
          },
          "metadata": {}
        }
      ]
    },
    {
      "cell_type": "code",
      "source": [
        "import time\n",
        "import datetime\n",
        "import pandas as pd\n",
        "\n",
        "\n",
        "ticker = 'MSFT'\n",
        "period1 = int(time.mktime(datetime.datetime(2020,12,1,23,59).timetuple()))\n",
        "period2 = int(time.mktime(datetime.datetime(2020,12,1,23,59).timetuple()))\n",
        "interval = '1d'\n",
        "\n",
        "query_string = f'https://query1.finance.yahoo.com/v7/finance/download/{ticker}?period={period1}&period2={period2}&interval={interval}&events=history&includeAdjustedClose=true'\n",
        "\n",
        "df3= pd.read_csv(query_string)\n",
        "\n",
        "from google.colab import files\n",
        "\n",
        "df3.to_csv('output3.csv', encoding = 'utf-8-sig') \n",
        "files.download('output3.csv')"
      ],
      "metadata": {
        "colab": {
          "base_uri": "https://localhost:8080/",
          "height": 17
        },
        "id": "TihSIFKF0M-1",
        "outputId": "c303031a-5507-4276-aab2-f60e1ede6b35"
      },
      "execution_count": 16,
      "outputs": [
        {
          "output_type": "display_data",
          "data": {
            "text/plain": [
              "<IPython.core.display.Javascript object>"
            ],
            "application/javascript": [
              "\n",
              "    async function download(id, filename, size) {\n",
              "      if (!google.colab.kernel.accessAllowed) {\n",
              "        return;\n",
              "      }\n",
              "      const div = document.createElement('div');\n",
              "      const label = document.createElement('label');\n",
              "      label.textContent = `Downloading \"${filename}\": `;\n",
              "      div.appendChild(label);\n",
              "      const progress = document.createElement('progress');\n",
              "      progress.max = size;\n",
              "      div.appendChild(progress);\n",
              "      document.body.appendChild(div);\n",
              "\n",
              "      const buffers = [];\n",
              "      let downloaded = 0;\n",
              "\n",
              "      const channel = await google.colab.kernel.comms.open(id);\n",
              "      // Send a message to notify the kernel that we're ready.\n",
              "      channel.send({})\n",
              "\n",
              "      for await (const message of channel.messages) {\n",
              "        // Send a message to notify the kernel that we're ready.\n",
              "        channel.send({})\n",
              "        if (message.buffers) {\n",
              "          for (const buffer of message.buffers) {\n",
              "            buffers.push(buffer);\n",
              "            downloaded += buffer.byteLength;\n",
              "            progress.value = downloaded;\n",
              "          }\n",
              "        }\n",
              "      }\n",
              "      const blob = new Blob(buffers, {type: 'application/binary'});\n",
              "      const a = document.createElement('a');\n",
              "      a.href = window.URL.createObjectURL(blob);\n",
              "      a.download = filename;\n",
              "      div.appendChild(a);\n",
              "      a.click();\n",
              "      div.remove();\n",
              "    }\n",
              "  "
            ]
          },
          "metadata": {}
        },
        {
          "output_type": "display_data",
          "data": {
            "text/plain": [
              "<IPython.core.display.Javascript object>"
            ],
            "application/javascript": [
              "download(\"download_06ee000c-4cd4-46b0-8275-76f21b7f9ad3\", \"output3.csv\", 23117)"
            ]
          },
          "metadata": {}
        }
      ]
    },
    {
      "cell_type": "markdown",
      "source": [
        "# Merged Data"
      ],
      "metadata": {
        "id": "nUL2if4t785K"
      }
    },
    {
      "cell_type": "code",
      "source": [
        "Merged_data = pd.read_csv(\"https://raw.githubusercontent.com/PAhalya/stockmarket-prediction/main/Three%20stock%20data.csv\")\n",
        "Merged_data.head()"
      ],
      "metadata": {
        "colab": {
          "base_uri": "https://localhost:8080/",
          "height": 206
        },
        "id": "_tc-Q_zW4Sv5",
        "outputId": "09fc3fc1-4677-483d-fc31-e47548ba8b98"
      },
      "execution_count": 17,
      "outputs": [
        {
          "output_type": "execute_result",
          "data": {
            "text/plain": [
              "   Unnamed: 0       Date        Open        High         Low       Close  \\\n",
              "0           0  9/25/2019  137.500000  139.960007  136.029999  139.360001   \n",
              "1           1  9/26/2019  139.440002  140.179993  138.440002  139.539993   \n",
              "2           2  9/27/2019  140.149994  140.360001  136.649994  137.729996   \n",
              "3           3  9/30/2019  138.050003  139.220001  137.779999  139.029999   \n",
              "4           4  10/1/2019  139.660004  140.250000  137.000000  137.070007   \n",
              "\n",
              "    Adj Close    Volume Stock_Symbol  \n",
              "0  136.007828  21382000         MSFT  \n",
              "1  136.183548  17456600         MSFT  \n",
              "2  134.417068  22477700         MSFT  \n",
              "3  135.685791  17280900         MSFT  \n",
              "4  133.772964  21466600         MSFT  "
            ],
            "text/html": [
              "\n",
              "  <div id=\"df-888fb3e4-9c07-4c14-8967-7d2779d476ed\">\n",
              "    <div class=\"colab-df-container\">\n",
              "      <div>\n",
              "<style scoped>\n",
              "    .dataframe tbody tr th:only-of-type {\n",
              "        vertical-align: middle;\n",
              "    }\n",
              "\n",
              "    .dataframe tbody tr th {\n",
              "        vertical-align: top;\n",
              "    }\n",
              "\n",
              "    .dataframe thead th {\n",
              "        text-align: right;\n",
              "    }\n",
              "</style>\n",
              "<table border=\"1\" class=\"dataframe\">\n",
              "  <thead>\n",
              "    <tr style=\"text-align: right;\">\n",
              "      <th></th>\n",
              "      <th>Unnamed: 0</th>\n",
              "      <th>Date</th>\n",
              "      <th>Open</th>\n",
              "      <th>High</th>\n",
              "      <th>Low</th>\n",
              "      <th>Close</th>\n",
              "      <th>Adj Close</th>\n",
              "      <th>Volume</th>\n",
              "      <th>Stock_Symbol</th>\n",
              "    </tr>\n",
              "  </thead>\n",
              "  <tbody>\n",
              "    <tr>\n",
              "      <th>0</th>\n",
              "      <td>0</td>\n",
              "      <td>9/25/2019</td>\n",
              "      <td>137.500000</td>\n",
              "      <td>139.960007</td>\n",
              "      <td>136.029999</td>\n",
              "      <td>139.360001</td>\n",
              "      <td>136.007828</td>\n",
              "      <td>21382000</td>\n",
              "      <td>MSFT</td>\n",
              "    </tr>\n",
              "    <tr>\n",
              "      <th>1</th>\n",
              "      <td>1</td>\n",
              "      <td>9/26/2019</td>\n",
              "      <td>139.440002</td>\n",
              "      <td>140.179993</td>\n",
              "      <td>138.440002</td>\n",
              "      <td>139.539993</td>\n",
              "      <td>136.183548</td>\n",
              "      <td>17456600</td>\n",
              "      <td>MSFT</td>\n",
              "    </tr>\n",
              "    <tr>\n",
              "      <th>2</th>\n",
              "      <td>2</td>\n",
              "      <td>9/27/2019</td>\n",
              "      <td>140.149994</td>\n",
              "      <td>140.360001</td>\n",
              "      <td>136.649994</td>\n",
              "      <td>137.729996</td>\n",
              "      <td>134.417068</td>\n",
              "      <td>22477700</td>\n",
              "      <td>MSFT</td>\n",
              "    </tr>\n",
              "    <tr>\n",
              "      <th>3</th>\n",
              "      <td>3</td>\n",
              "      <td>9/30/2019</td>\n",
              "      <td>138.050003</td>\n",
              "      <td>139.220001</td>\n",
              "      <td>137.779999</td>\n",
              "      <td>139.029999</td>\n",
              "      <td>135.685791</td>\n",
              "      <td>17280900</td>\n",
              "      <td>MSFT</td>\n",
              "    </tr>\n",
              "    <tr>\n",
              "      <th>4</th>\n",
              "      <td>4</td>\n",
              "      <td>10/1/2019</td>\n",
              "      <td>139.660004</td>\n",
              "      <td>140.250000</td>\n",
              "      <td>137.000000</td>\n",
              "      <td>137.070007</td>\n",
              "      <td>133.772964</td>\n",
              "      <td>21466600</td>\n",
              "      <td>MSFT</td>\n",
              "    </tr>\n",
              "  </tbody>\n",
              "</table>\n",
              "</div>\n",
              "      <button class=\"colab-df-convert\" onclick=\"convertToInteractive('df-888fb3e4-9c07-4c14-8967-7d2779d476ed')\"\n",
              "              title=\"Convert this dataframe to an interactive table.\"\n",
              "              style=\"display:none;\">\n",
              "        \n",
              "  <svg xmlns=\"http://www.w3.org/2000/svg\" height=\"24px\"viewBox=\"0 0 24 24\"\n",
              "       width=\"24px\">\n",
              "    <path d=\"M0 0h24v24H0V0z\" fill=\"none\"/>\n",
              "    <path d=\"M18.56 5.44l.94 2.06.94-2.06 2.06-.94-2.06-.94-.94-2.06-.94 2.06-2.06.94zm-11 1L8.5 8.5l.94-2.06 2.06-.94-2.06-.94L8.5 2.5l-.94 2.06-2.06.94zm10 10l.94 2.06.94-2.06 2.06-.94-2.06-.94-.94-2.06-.94 2.06-2.06.94z\"/><path d=\"M17.41 7.96l-1.37-1.37c-.4-.4-.92-.59-1.43-.59-.52 0-1.04.2-1.43.59L10.3 9.45l-7.72 7.72c-.78.78-.78 2.05 0 2.83L4 21.41c.39.39.9.59 1.41.59.51 0 1.02-.2 1.41-.59l7.78-7.78 2.81-2.81c.8-.78.8-2.07 0-2.86zM5.41 20L4 18.59l7.72-7.72 1.47 1.35L5.41 20z\"/>\n",
              "  </svg>\n",
              "      </button>\n",
              "      \n",
              "  <style>\n",
              "    .colab-df-container {\n",
              "      display:flex;\n",
              "      flex-wrap:wrap;\n",
              "      gap: 12px;\n",
              "    }\n",
              "\n",
              "    .colab-df-convert {\n",
              "      background-color: #E8F0FE;\n",
              "      border: none;\n",
              "      border-radius: 50%;\n",
              "      cursor: pointer;\n",
              "      display: none;\n",
              "      fill: #1967D2;\n",
              "      height: 32px;\n",
              "      padding: 0 0 0 0;\n",
              "      width: 32px;\n",
              "    }\n",
              "\n",
              "    .colab-df-convert:hover {\n",
              "      background-color: #E2EBFA;\n",
              "      box-shadow: 0px 1px 2px rgba(60, 64, 67, 0.3), 0px 1px 3px 1px rgba(60, 64, 67, 0.15);\n",
              "      fill: #174EA6;\n",
              "    }\n",
              "\n",
              "    [theme=dark] .colab-df-convert {\n",
              "      background-color: #3B4455;\n",
              "      fill: #D2E3FC;\n",
              "    }\n",
              "\n",
              "    [theme=dark] .colab-df-convert:hover {\n",
              "      background-color: #434B5C;\n",
              "      box-shadow: 0px 1px 3px 1px rgba(0, 0, 0, 0.15);\n",
              "      filter: drop-shadow(0px 1px 2px rgba(0, 0, 0, 0.3));\n",
              "      fill: #FFFFFF;\n",
              "    }\n",
              "  </style>\n",
              "\n",
              "      <script>\n",
              "        const buttonEl =\n",
              "          document.querySelector('#df-888fb3e4-9c07-4c14-8967-7d2779d476ed button.colab-df-convert');\n",
              "        buttonEl.style.display =\n",
              "          google.colab.kernel.accessAllowed ? 'block' : 'none';\n",
              "\n",
              "        async function convertToInteractive(key) {\n",
              "          const element = document.querySelector('#df-888fb3e4-9c07-4c14-8967-7d2779d476ed');\n",
              "          const dataTable =\n",
              "            await google.colab.kernel.invokeFunction('convertToInteractive',\n",
              "                                                     [key], {});\n",
              "          if (!dataTable) return;\n",
              "\n",
              "          const docLinkHtml = 'Like what you see? Visit the ' +\n",
              "            '<a target=\"_blank\" href=https://colab.research.google.com/notebooks/data_table.ipynb>data table notebook</a>'\n",
              "            + ' to learn more about interactive tables.';\n",
              "          element.innerHTML = '';\n",
              "          dataTable['output_type'] = 'display_data';\n",
              "          await google.colab.output.renderOutput(dataTable, element);\n",
              "          const docLink = document.createElement('div');\n",
              "          docLink.innerHTML = docLinkHtml;\n",
              "          element.appendChild(docLink);\n",
              "        }\n",
              "      </script>\n",
              "    </div>\n",
              "  </div>\n",
              "  "
            ]
          },
          "metadata": {},
          "execution_count": 17
        }
      ]
    },
    {
      "cell_type": "markdown",
      "source": [
        "# Install Java, Spark, and Findspark :\n",
        "Below commands installs Apache Spark, Java 8, and Findspark, a library that makes it easy for Python to find Spark."
      ],
      "metadata": {
        "id": "wUH1uddZ8HBw"
      }
    },
    {
      "cell_type": "code",
      "source": [
        "%%bash\n",
        "apt-get install openjdk-8-jdk-headless -qq > /dev/null\n",
        "[ ! -e \"$(basename spark-3.1.2-bin-hadoop2.7.tgz)\" ] && wget  http://apache.osuosl.org/spark/spark-3.1.2/spark-3.1.2-bin-hadoop2.7.tgz  \n",
        "tar xf spark-3.1.2-bin-hadoop2.7.tgz\n",
        "pip install -q findspark"
      ],
      "metadata": {
        "id": "7y1cot8H4hRz"
      },
      "execution_count": 18,
      "outputs": []
    },
    {
      "cell_type": "markdown",
      "metadata": {
        "id": "IyCN3bJviviu"
      },
      "source": [
        "## Set Environment Variables:\n",
        "Set the locations where Spark and Java are installed."
      ]
    },
    {
      "cell_type": "code",
      "source": [
        "import os\n",
        "os.environ[\"JAVA_HOME\"] = \"/usr/lib/jvm/java-8-openjdk-amd64\"\n",
        "os.environ[\"SPARK_HOME\"] = \"/content/spark-3.1.2-bin-hadoop2.7\""
      ],
      "metadata": {
        "id": "-UgnKmzK4nv_"
      },
      "execution_count": 19,
      "outputs": []
    },
    {
      "cell_type": "markdown",
      "source": [
        "# Start a Spark Session:\n",
        "This will start a local Spark session. Prior to Spark 2.0.0 sparkContext was used. However in order to use APIs of SQL, HIVE, and Streaming, separate contexts need to be created.\n",
        "\n",
        "SPARK 2.0.0 onwards, SparkSession provides a single point of entry to use DataFrame and Dataset APIs. All the functionality available with sparkContext are also available in sparkSession. It is recommended to use Spark session in stead of Spark context now."
      ],
      "metadata": {
        "id": "O87T-2UP8Z3Z"
      }
    },
    {
      "cell_type": "code",
      "source": [
        "import findspark\n",
        "findspark.init()\n",
        "from pyspark.sql import SparkSession\n",
        "\n",
        "# get a spark session. \n",
        "spark = SparkSession.builder.master(\"local[*]\").getOrCreate()"
      ],
      "metadata": {
        "id": "WpQbeYw54tDr"
      },
      "execution_count": 20,
      "outputs": []
    },
    {
      "cell_type": "markdown",
      "source": [
        "#Create Dataframe in Spark:\n",
        "In this Session we are going to stock market data download from yahoo finance"
      ],
      "metadata": {
        "id": "f8mJCNCH8iSq"
      }
    },
    {
      "cell_type": "code",
      "source": [
        "! [ ! -e \"$(basename Three stock data.csv)\" ] && wget  https://raw.githubusercontent.com/PAhalya/stockmarket-prediction/main/Three%20stock%20data.csv\n",
        "df = spark.read.csv('Three stock data.csv',\n",
        "                      header= True, \n",
        "                      inferSchema =True)\n",
        "\n",
        "\n",
        "print(df.columns)"
      ],
      "metadata": {
        "colab": {
          "base_uri": "https://localhost:8080/"
        },
        "id": "2d4XlR014xpX",
        "outputId": "15fcf922-43da-4933-92aa-5412b0652683"
      },
      "execution_count": 23,
      "outputs": [
        {
          "output_type": "stream",
          "name": "stdout",
          "text": [
            "basename: extra operand ‘data.csv’\n",
            "Try 'basename --help' for more information.\n",
            "--2022-04-24 00:06:48--  https://raw.githubusercontent.com/PAhalya/stockmarket-prediction/main/Three%20stock%20data.csv\n",
            "Resolving raw.githubusercontent.com (raw.githubusercontent.com)... 185.199.111.133, 185.199.110.133, 185.199.109.133, ...\n",
            "Connecting to raw.githubusercontent.com (raw.githubusercontent.com)|185.199.111.133|:443... connected.\n",
            "HTTP request sent, awaiting response... 200 OK\n",
            "Length: 71802 (70K) [text/plain]\n",
            "Saving to: ‘Three stock data.csv.2’\n",
            "\n",
            "\rThree stock data.cs   0%[                    ]       0  --.-KB/s               \rThree stock data.cs 100%[===================>]  70.12K  --.-KB/s    in 0.01s   \n",
            "\n",
            "2022-04-24 00:06:48 (5.67 MB/s) - ‘Three stock data.csv.2’ saved [71802/71802]\n",
            "\n",
            "['_c0', 'Date', 'Open', 'High', 'Low', 'Close', 'Adj Close', 'Volume', 'Stock_Symbol']\n"
          ]
        }
      ]
    },
    {
      "cell_type": "markdown",
      "source": [
        "\n",
        "# Let us get first 5 values from our dataset :"
      ],
      "metadata": {
        "id": "_J4n47vm8xxb"
      }
    },
    {
      "cell_type": "code",
      "source": [
        "df.show(5, truncate=False)"
      ],
      "metadata": {
        "colab": {
          "base_uri": "https://localhost:8080/"
        },
        "id": "2QdVz88C5V5v",
        "outputId": "d1df5fc2-1eb5-4eab-9398-d47d1b1a623b"
      },
      "execution_count": 25,
      "outputs": [
        {
          "output_type": "stream",
          "name": "stdout",
          "text": [
            "+---+---------+----------+----------+----------+----------+----------+--------+------------+\n",
            "|_c0|Date     |Open      |High      |Low       |Close     |Adj Close |Volume  |Stock_Symbol|\n",
            "+---+---------+----------+----------+----------+----------+----------+--------+------------+\n",
            "|0  |9/25/2019|137.5     |139.960007|136.029999|139.360001|136.007828|21382000|MSFT        |\n",
            "|1  |9/26/2019|139.440002|140.179993|138.440002|139.539993|136.183548|17456600|MSFT        |\n",
            "|2  |9/27/2019|140.149994|140.360001|136.649994|137.729996|134.417068|22477700|MSFT        |\n",
            "|3  |9/30/2019|138.050003|139.220001|137.779999|139.029999|135.685791|17280900|MSFT        |\n",
            "|4  |10/1/2019|139.660004|140.25    |137.0     |137.070007|133.772964|21466600|MSFT        |\n",
            "+---+---------+----------+----------+----------+----------+----------+--------+------------+\n",
            "only showing top 5 rows\n",
            "\n"
          ]
        }
      ]
    },
    {
      "cell_type": "markdown",
      "source": [
        "# Finding NULL Values in the dataset:"
      ],
      "metadata": {
        "id": "BidfH-R688Up"
      }
    },
    {
      "cell_type": "code",
      "source": [
        "from pyspark.sql import functions as F\n",
        "df.select([F.count(F.when(F.isnull(c), c)).alias(c) for c in df.columns]).show()"
      ],
      "metadata": {
        "colab": {
          "base_uri": "https://localhost:8080/"
        },
        "id": "1TrLJ3b05bPw",
        "outputId": "3cbad2a7-dcb6-47f2-8925-7797a3119a58"
      },
      "execution_count": 26,
      "outputs": [
        {
          "output_type": "stream",
          "name": "stdout",
          "text": [
            "+---+----+----+----+---+-----+---------+------+------------+\n",
            "|_c0|Date|Open|High|Low|Close|Adj Close|Volume|Stock_Symbol|\n",
            "+---+----+----+----+---+-----+---------+------+------------+\n",
            "|  0|   0|   0|   0|  0|    0|        0|     0|           0|\n",
            "+---+----+----+----+---+-----+---------+------+------------+\n",
            "\n"
          ]
        }
      ]
    },
    {
      "cell_type": "markdown",
      "source": [
        "# Selecting Stock symbol with highest value"
      ],
      "metadata": {
        "id": "GKoUM4y89EHN"
      }
    },
    {
      "cell_type": "code",
      "source": [
        "df.select(\"High\",\"Stock_Symbol\").show(5)"
      ],
      "metadata": {
        "colab": {
          "base_uri": "https://localhost:8080/"
        },
        "id": "9NCxlpOy5tf3",
        "outputId": "b6f5e567-4bb1-4957-cc7f-9fa59ab570c6"
      },
      "execution_count": 29,
      "outputs": [
        {
          "output_type": "stream",
          "name": "stdout",
          "text": [
            "+----------+------------+\n",
            "|      High|Stock_Symbol|\n",
            "+----------+------------+\n",
            "|139.960007|        MSFT|\n",
            "|140.179993|        MSFT|\n",
            "|140.360001|        MSFT|\n",
            "|139.220001|        MSFT|\n",
            "|    140.25|        MSFT|\n",
            "+----------+------------+\n",
            "only showing top 5 rows\n",
            "\n"
          ]
        }
      ]
    },
    {
      "cell_type": "code",
      "source": [
        "df.groupBy('High').count().show()"
      ],
      "metadata": {
        "colab": {
          "base_uri": "https://localhost:8080/"
        },
        "id": "JoFHDBtx6AB4",
        "outputId": "116ce5cd-0caa-4fdd-9d7f-dba116f183d5"
      },
      "execution_count": 31,
      "outputs": [
        {
          "output_type": "stream",
          "name": "stdout",
          "text": [
            "+----------+-----+\n",
            "|      High|count|\n",
            "+----------+-----+\n",
            "|215.800003|    1|\n",
            "|230.639999|    1|\n",
            "|     496.0|    1|\n",
            "| 63.880001|    1|\n",
            "| 72.167999|    1|\n",
            "|227.065994|    1|\n",
            "|     170.0|    1|\n",
            "|216.279999|    1|\n",
            "|   67.0625|    1|\n",
            "| 61.424999|    1|\n",
            "| 94.904999|    1|\n",
            "|115.230003|    1|\n",
            "|116.550003|    2|\n",
            "| 68.914001|    1|\n",
            "| 60.247501|    1|\n",
            "| 67.276001|    1|\n",
            "|305.481995|    1|\n",
            "|      67.0|    2|\n",
            "|119.629997|    1|\n",
            "|229.309998|    1|\n",
            "+----------+-----+\n",
            "only showing top 20 rows\n",
            "\n"
          ]
        }
      ]
    },
    {
      "cell_type": "code",
      "source": [
        "df.orderBy('Stock_Symbol').show(truncate=False)"
      ],
      "metadata": {
        "colab": {
          "base_uri": "https://localhost:8080/"
        },
        "id": "qP3UR9Zf6Mq2",
        "outputId": "3eb31a0f-a0bc-4da4-a01f-94e86f10fcaa"
      },
      "execution_count": 32,
      "outputs": [
        {
          "output_type": "stream",
          "name": "stdout",
          "text": [
            "+---+----------+---------+---------+---------+---------+---------+---------+------------+\n",
            "|_c0|Date      |Open     |High     |Low      |Close    |Adj Close|Volume   |Stock_Symbol|\n",
            "+---+----------+---------+---------+---------+---------+---------+---------+------------+\n",
            "|600|9/25/2019 |54.637501|55.375   |54.285   |55.2575  |54.216656|87613600 |AAPL        |\n",
            "|620|10/23/2019|60.525002|60.810001|60.305   |60.794998|59.649853|75828800 |AAPL        |\n",
            "|601|9/26/2019 |55.0     |55.235001|54.7075  |54.9725  |53.937023|75334000 |AAPL        |\n",
            "|602|9/27/2019 |55.134998|55.240002|54.32    |54.705002|53.674572|101408000|AAPL        |\n",
            "|603|9/30/2019 |55.224998|56.145   |55.197498|55.9925  |54.937817|103909600|AAPL        |\n",
            "|604|10/1/2019 |56.267502|57.055   |56.049999|56.147499|55.089893|139223200|AAPL        |\n",
            "|605|10/2/2019 |55.764999|55.895   |54.482498|54.740002|53.708908|138449200|AAPL        |\n",
            "|606|10/3/2019 |54.607498|55.240002|53.782501|55.205002|54.16515 |114426000|AAPL        |\n",
            "|607|10/4/2019 |56.41    |56.872501|55.9725  |56.752499|55.683498|138478800|AAPL        |\n",
            "|608|10/7/2019 |56.567501|57.482498|56.459999|56.764999|55.695759|122306000|AAPL        |\n",
            "|609|10/8/2019 |56.455002|57.014999|56.0825  |56.099998|55.043289|111820000|AAPL        |\n",
            "|610|10/9/2019 |56.7575  |56.947498|56.41    |56.7575  |55.688408|74770400 |AAPL        |\n",
            "|611|10/10/2019|56.982498|57.610001|56.825001|57.522499|56.438995|113013600|AAPL        |\n",
            "|612|10/11/2019|58.237499|59.41    |58.077499|59.052502|57.940178|166795600|AAPL        |\n",
            "|613|10/14/2019|58.724998|59.532501|58.6675  |58.967499|57.856777|96427600 |AAPL        |\n",
            "|614|10/15/2019|59.0975  |59.412498|58.720001|58.830002|57.72187 |87360000 |AAPL        |\n",
            "|615|10/16/2019|58.342499|58.810001|58.299999|58.592499|57.488842|73903200 |AAPL        |\n",
            "|616|10/17/2019|58.772499|59.037498|58.380001|58.82    |57.712059|67585200 |AAPL        |\n",
            "|617|10/18/2019|58.647499|59.395   |58.572498|59.102501|57.989235|97433600 |AAPL        |\n",
            "|618|10/21/2019|59.380001|60.247501|59.330002|60.127499|58.994926|87247200 |AAPL        |\n",
            "+---+----------+---------+---------+---------+---------+---------+---------+------------+\n",
            "only showing top 20 rows\n",
            "\n"
          ]
        }
      ]
    },
    {
      "cell_type": "code",
      "source": [
        "from pyspark.sql.functions import col\n",
        "from pyspark.sql.functions import min, max\n",
        "df.select(min(col('Stock_Symbol')), max(col('Stock_Symbol'))).show()"
      ],
      "metadata": {
        "colab": {
          "base_uri": "https://localhost:8080/"
        },
        "id": "SHtjzebL6asM",
        "outputId": "9379ae2f-ec5f-4aab-96bd-f47414a47b15"
      },
      "execution_count": 33,
      "outputs": [
        {
          "output_type": "stream",
          "name": "stdout",
          "text": [
            "+-----------------+-----------------+\n",
            "|min(Stock_Symbol)|max(Stock_Symbol)|\n",
            "+-----------------+-----------------+\n",
            "|             AAPL|             TSLA|\n",
            "+-----------------+-----------------+\n",
            "\n"
          ]
        }
      ]
    },
    {
      "cell_type": "code",
      "source": [
        "from pyspark.sql.functions import lit\n",
        "from pyspark.sql.functions import concat\n",
        "df.select(col(\"Close\"),col(\"Stock_Symbol\"),concat(col(\"Close\"), lit(\" \"), col(\"Stock_Symbol\"))).show(5, False)"
      ],
      "metadata": {
        "colab": {
          "base_uri": "https://localhost:8080/"
        },
        "id": "-Esb-BOQ7IUc",
        "outputId": "50ce2d32-45c6-49cd-bf1e-955ea9f0c339"
      },
      "execution_count": 38,
      "outputs": [
        {
          "output_type": "stream",
          "name": "stdout",
          "text": [
            "+----------+------------+------------------------------+\n",
            "|Close     |Stock_Symbol|concat(Close,  , Stock_Symbol)|\n",
            "+----------+------------+------------------------------+\n",
            "|139.360001|MSFT        |139.360001 MSFT               |\n",
            "|139.539993|MSFT        |139.539993 MSFT               |\n",
            "|137.729996|MSFT        |137.729996 MSFT               |\n",
            "|139.029999|MSFT        |139.029999 MSFT               |\n",
            "|137.070007|MSFT        |137.070007 MSFT               |\n",
            "+----------+------------+------------------------------+\n",
            "only showing top 5 rows\n",
            "\n"
          ]
        }
      ]
    }
  ]
}